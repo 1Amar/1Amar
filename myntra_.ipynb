{
  "nbformat": 4,
  "nbformat_minor": 0,
  "metadata": {
    "colab": {
      "name": "myntra_.ipynb",
      "provenance": [],
      "authorship_tag": "ABX9TyPIovk7LUyIsj+UnVQHc4A7",
      "include_colab_link": true
    },
    "kernelspec": {
      "name": "python3",
      "display_name": "Python 3"
    },
    "language_info": {
      "name": "python"
    }
  },
  "cells": [
    {
      "cell_type": "markdown",
      "metadata": {
        "id": "view-in-github",
        "colab_type": "text"
      },
      "source": [
        "<a href=\"https://colab.research.google.com/github/1Amar/1Amar/blob/main/myntra_.ipynb\" target=\"_parent\"><img src=\"https://colab.research.google.com/assets/colab-badge.svg\" alt=\"Open In Colab\"/></a>"
      ]
    },
    {
      "cell_type": "code",
      "execution_count": 1,
      "metadata": {
        "id": "89SN1B4q4smX"
      },
      "outputs": [],
      "source": [
        "import bs4\n",
        "\n",
        "import requests\n",
        "\n",
        "from urllib.request import urlopen as uReq\n",
        "\n",
        "from bs4 import BeautifulSoup as soup\n",
        "\n",
        "import pandas as pd"
      ]
    },
    {
      "cell_type": "code",
      "source": [
        "headers = {\n",
        "    \"User-Agent\": \"Mozilla/5.0 (X11; Linux x86_64; rv:60.0) Gecko/20100101 Firefox/60.0\"\n",
        "}\n",
        "\n",
        "my_url = 'https://www.myntra.com/men-footwear'\n",
        "\n",
        "uClient = requests.get(my_url, headers=headers) #establish connection and open a url\n",
        "\n",
        "# page_html = uClient.text\n",
        "\n",
        "uClient.close()\n",
        "\n",
        "page_html = uClient.content\n",
        "\n",
        "page = soup(page_html, \"html.parser\")"
      ],
      "metadata": {
        "id": "yqwMvew65HDA"
      },
      "execution_count": 2,
      "outputs": []
    },
    {
      "cell_type": "code",
      "source": [
        "print(page.prettify())"
      ],
      "metadata": {
        "colab": {
          "base_uri": "https://localhost:8080/"
        },
        "id": "yRC5jvkt5PxO",
        "outputId": "eddff243-0c50-4c57-bd61-8d560a1eb708"
      },
      "execution_count": 3,
      "outputs": [
        {
          "output_type": "stream",
          "name": "stdout",
          "text": [
            "<!DOCTYPE doctype html>\n",
            "<html>\n",
            " <head>\n",
            "  <title>\n",
            "   Site Maintenance\n",
            "  </title>\n",
            "  <style type=\"text/css\">\n",
            "   body { text-align: center; padding: 150px; }h1 { font-size: 40px; }body { font: 16px Helvetica, sans-serif; color: #333; }#error { display: block; text-align: left; width: 650px; margin: 0 auto; }\n",
            "  </style>\n",
            " </head>\n",
            " <body>\n",
            "  <div id=\"error\">\n",
            "   <h1>\n",
            "    Oops! Something went wrong\n",
            "   </h1>\n",
            "   <div>\n",
            "    <hr/>\n",
            "    <p>\n",
            "     Please contact your administrator\n",
            "    </p>\n",
            "   </div>\n",
            "  </div>\n",
            " </body>\n",
            "</html>\n"
          ]
        }
      ]
    },
    {
      "cell_type": "code",
      "source": [
        ""
      ],
      "metadata": {
        "id": "jMpVDjiQ5XGc"
      },
      "execution_count": null,
      "outputs": []
    }
  ]
}